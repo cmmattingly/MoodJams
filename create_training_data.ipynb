{
 "cells": [
  {
   "cell_type": "code",
   "execution_count": 3,
   "metadata": {},
   "outputs": [],
   "source": [
    "import numpy as np\n",
    "import matplotlib.pyplot as plt\n",
    "import os\n",
    "import cv2\n",
    "\n",
    "TRAINDATADIR = \"./archive/train\"\n",
    "CATEGORIES = [\"angry\", \"disgust\", \"fear\", \"happy\", \"sad\", \"surprise\", \"neutral\"]\n",
    "training_data = []\n",
    "\n",
    "def create_training_data():\n",
    "    for category in CATEGORIES:\n",
    "        path = os.path.join(TRAINDATADIR, category)\n",
    "        cat_num = CATEGORIES.index(category)\n",
    "        for img in os.listdir(path):\n",
    "                img_array = cv2.imread(os.path.join(path, img)) \n",
    "                training_data.append([img_array, cat_num])\n",
    "\n",
    "create_training_data()\n",
    "\n",
    "TESTDATADIR = \"./archive/test\"\n",
    "testing_data = []\n",
    "def create_testing_data():   \n",
    "    for category in CATEGORIES:\n",
    "        path = os.path.join(TESTDATADIR, category)\n",
    "        cat_num = CATEGORIES.index(category)\n",
    "        for img in os.listdir(path):\n",
    "                img_array = cv2.imread(os.path.join(path, img)) \n",
    "                testing_data.append([img_array, cat_num])\n",
    "\n",
    "create_testing_data()\n"
   ]
  },
  {
   "cell_type": "code",
   "execution_count": 8,
   "metadata": {},
   "outputs": [
    {
     "name": "stdout",
     "output_type": "stream",
     "text": [
      "28709\n",
      "7178\n"
     ]
    }
   ],
   "source": [
    "x_train = [] #data\n",
    "y_train = [] #labels\n",
    "x_test = []\n",
    "y_test = []\n",
    "\n",
    "for data, label in training_data:\n",
    "    x_train.append(data)\n",
    "    y_train.append(label)\n",
    "for data, label in testing_data:\n",
    "    x_test.append(data)\n",
    "    y_test.append(label)\n",
    "\n",
    "x_train = np.array(x_train)\n",
    "x_test = np.array(x_test)\n",
    "\n",
    "print(len(x_train))\n",
    "print(len(x_test))\n"
   ]
  },
  {
   "cell_type": "code",
   "execution_count": 9,
   "metadata": {},
   "outputs": [],
   "source": [
    "np.save('x_train.npy', x_train)\n",
    "np.save('y_train.npy', y_train)\n",
    "np.save('x_test.npy', x_test)\n",
    "np.save('y_test.npy', y_test)\n",
    "\n"
   ]
  }
 ],
 "metadata": {
  "kernelspec": {
   "display_name": "Python 3",
   "language": "python",
   "name": "python3"
  },
  "language_info": {
   "codemirror_mode": {
    "name": "ipython",
    "version": 3
   },
   "file_extension": ".py",
   "mimetype": "text/x-python",
   "name": "python",
   "nbconvert_exporter": "python",
   "pygments_lexer": "ipython3",
   "version": "3.8.5"
  }
 },
 "nbformat": 4,
 "nbformat_minor": 4
}
