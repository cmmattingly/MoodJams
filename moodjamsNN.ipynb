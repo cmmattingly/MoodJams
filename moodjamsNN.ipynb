{
 "cells": [
  {
   "cell_type": "code",
   "execution_count": 1,
   "metadata": {},
   "outputs": [],
   "source": [
    "import tensorflow as tf\n",
    "import numpy as np\n",
    "from tensorflow.keras.models import Sequential\n",
    "from tensorflow.keras.layers import Dense, Dropout, Flatten, Conv2D, MaxPooling2D\n",
    "from keras.models import model_from_json\n"
   ]
  },
  {
   "cell_type": "code",
   "execution_count": 2,
   "metadata": {},
   "outputs": [],
   "source": [
    "x_train = np.load('x_train.npy')\n",
    "y_train = np.load('y_train.npy')\n",
    "y_train = tf.keras.utils.to_categorical(y_train, num_classes=7)\n",
    "\n",
    "x_test = np.load('x_test.npy')\n",
    "y_test = np.load('y_test.npy')\n",
    "y_test = tf.keras.utils.to_categorical(y_test, num_classes=7)\n"
   ]
  },
  {
   "cell_type": "code",
   "execution_count": 3,
   "metadata": {},
   "outputs": [],
   "source": [
    "def conv_nn():\n",
    "    nn = Sequential()\n",
    "\n",
    "    nn.add(Conv2D(64, kernel_size=(3,3), activation='relu', input_shape=x_train.shape[1:])) #first layer, input\n",
    "    nn.add(Conv2D(64, kernel_size=(3,3), activation='relu'))\n",
    "    nn.add(MaxPooling2D(pool_size=(2,2)))\n",
    "    nn.add(Dropout(0.25)) #help overfitting\n",
    "\n",
    "    nn.add(Conv2D(128, kernel_size=(3,3), activation='relu'))\n",
    "    nn.add(MaxPooling2D(pool_size=(2,2)))\n",
    "    nn.add(Conv2D(128, kernel_size=(3,3), activation='relu'))\n",
    "    nn.add(MaxPooling2D(pool_size=(2,2)))\n",
    "    nn.add(Conv2D(128, kernel_size=(3,3), activation='relu'))\n",
    "    nn.add(MaxPooling2D(pool_size=(2,2)))\n",
    "    nn.add(Dropout(0.25))\n",
    "\n",
    "    nn.add(Flatten()) #1D\n",
    "    nn.add(Dense(256, activation='relu')) #wants 1D dataset\n",
    "    nn.add(Dropout(0.5))\n",
    "    nn.add(Dense(7, activation='softmax')) #softmax for muliclass probablity (7 to be exact)\n",
    "    nn.compile(loss='categorical_crossentropy', optimizer='adam', metrics=['accuracy'])\n",
    "\n",
    "    return nn\n"
   ]
  },
  {
   "cell_type": "code",
   "execution_count": 4,
   "metadata": {},
   "outputs": [],
   "source": [
    "mood_model = conv_nn()"
   ]
  },
  {
   "cell_type": "code",
   "execution_count": null,
   "metadata": {},
   "outputs": [],
   "source": [
    "mood_model.fit(x_train, y_train, epochs=50, use_multiprocessing=True, validation_data=(x_test, y_test))"
   ]
  },
  {
   "cell_type": "code",
   "execution_count": null,
   "metadata": {},
   "outputs": [],
   "source": [
    "mood_model.evaluate(x_test, y_test, batch_size=64)"
   ]
  },
  {
   "cell_type": "code",
   "execution_count": null,
   "metadata": {},
   "outputs": [],
   "source": [
    "#export model\n",
    "model_json = mood_model.to_json()\n",
    "with open(\"mood_model.json\", \"w\") as json_file:\n",
    "    json_file.write(model_json)\n",
    "mood_model.save_weights('mood_model.h5')\n",
    "print(\"Saved model to disk\")"
   ]
  },
  {
   "cell_type": "code",
   "execution_count": null,
   "metadata": {},
   "outputs": [],
   "source": [
    "#import model\n",
    "with open('mood_model.json','r') as f:\n",
    "    json = f.read()\n",
    "loaded_model = model_from_json(json)\n",
    "\n",
    "loaded_model.load_weights(\"mood_model.h5\")\n",
    "\n",
    "loaded_model.compile(loss='categorical_crossentropy', optimizer='adam', metrics=['accuracy'])\n",
    "loaded_model.evaluate(x_test, y_test, batch_size=64)\n"
   ]
  }
 ],
 "metadata": {
  "kernelspec": {
   "display_name": "Python 3",
   "language": "python",
   "name": "python3"
  },
  "language_info": {
   "codemirror_mode": {
    "name": "ipython",
    "version": 3
   },
   "file_extension": ".py",
   "mimetype": "text/x-python",
   "name": "python",
   "nbconvert_exporter": "python",
   "pygments_lexer": "ipython3",
   "version": "3.8.5"
  }
 },
 "nbformat": 4,
 "nbformat_minor": 4
}
